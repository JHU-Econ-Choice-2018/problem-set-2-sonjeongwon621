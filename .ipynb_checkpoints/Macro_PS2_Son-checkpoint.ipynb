{
 "cells": [
  {
   "cell_type": "code",
   "execution_count": 1,
   "metadata": {},
   "outputs": [
    {
     "data": {
      "text/html": [
       "<script>\n",
       "code_show=true; \n",
       "function code_toggle() {\n",
       " if (code_show){\n",
       " $('div.input').hide();\n",
       " } else {\n",
       " $('div.input').show();\n",
       " }\n",
       " code_show = !code_show\n",
       "} \n",
       "$( document ).ready(code_toggle);\n",
       "</script>\n",
       "<form action=\"javascript:code_toggle()\"><input type=\"submit\" value=\"Click here to toggle on/off the raw code.\"></form>"
      ],
      "text/plain": [
       "<IPython.core.display.HTML object>"
      ]
     },
     "execution_count": 1,
     "metadata": {},
     "output_type": "execute_result"
    }
   ],
   "source": [
    "from IPython.display import HTML\n",
    "\n",
    "HTML('''<script>\n",
    "code_show=true; \n",
    "function code_toggle() {\n",
    " if (code_show){\n",
    " $('div.input').hide();\n",
    " } else {\n",
    " $('div.input').show();\n",
    " }\n",
    " code_show = !code_show\n",
    "} \n",
    "$( document ).ready(code_toggle);\n",
    "</script>\n",
    "<form action=\"javascript:code_toggle()\"><input type=\"submit\" value=\"Click here to toggle on/off the raw code.\"></form>''')"
   ]
  },
  {
   "cell_type": "code",
   "execution_count": 2,
   "metadata": {},
   "outputs": [],
   "source": [
    "import pylab\n",
    "import numpy\n",
    "import matplotlib.pyplot as plt"
   ]
  },
  {
   "cell_type": "markdown",
   "metadata": {},
   "source": [
    "## 1-a)\n",
    "We are given a log utility function and Cobb-Douglas production function.\n",
    "\n",
    "Then we can say that \n",
    "$$c_{1,t} = \\frac{y_{1,t} + \\frac{y_{2,t+1}}{R_{t+1}}}{1+\\beta}$$\n",
    "Since $y_{2,t+1}=0$, this is simplified to\n",
    "$$c_{1,t} = \\frac{y_{1,t}}{1+\\beta}$$ or $$c_{1,t} = \\frac{W_{1,t}}{1+\\beta}$$\n",
    "\n",
    "$$W_{1,t} = \\frac{\\partial F(K_t,L_t)}{\\partial L_t} = (1-\\epsilon)k_t^\\epsilon$$ since the labor market has perfect competition.\n",
    "\n",
    "$$a_{1,t} = y_{1,t} - c_{1,t} = W_{1,t} - c_{1,t} = \\frac{\\beta}{1+\\beta}W_{1,t} = \\frac{\\beta}{1+\\beta}(1-\\epsilon)k_t^\\epsilon$$\n",
    "\n",
    "$$K_{t+1} = a_{1,t}L_t$$\n",
    "\n",
    "$$k_{t+1} = \\frac{K_{t+1}}{L_{t+1}} = \\frac{a_{1,t}L_t}{L_{t+1}} = \\frac{a_{1,t}}{\\Xi_{t+1}} = \\frac{\\beta(1-\\epsilon)}{(1+\\beta)\\Xi_{t+1}}k_t^\\epsilon$$"
   ]
  },
  {
   "cell_type": "markdown",
   "metadata": {},
   "source": [
    "## 1-b)\n",
    "Let $\\Xi_t = \\Xi$\n",
    "\n",
    "At the steady state level of $k_t$, $k_t = \\overline k$\n",
    "\n",
    "$$\\overline k = \\frac{\\beta(1-\\epsilon)}{(1+\\beta)\\Xi}\\overline k^\\epsilon$$\n",
    "\n",
    "$$\\overline k = (\\frac{\\beta(1-\\epsilon)}{(1+\\beta)\\Xi})^\\frac{1}{1-\\epsilon}$$"
   ]
  },
  {
   "cell_type": "markdown",
   "metadata": {},
   "source": [
    "## 1-c) \n",
    "We know $\\overline k = (\\frac{\\beta(1-\\epsilon)}{(1+\\beta)\\Xi})^\\frac{1}{1-\\epsilon}$.\n",
    "\n",
    "For $\\hat\\Xi > \\Xi$, we want to compare $\\overline k(\\Xi)$ and $\\overline k(\\hat\\Xi)$.\n",
    "\n",
    "$\\frac{d\\overline k(\\Xi)}{d\\Xi} = \\frac{1}{\\epsilon - 1}\\Xi^\\frac{2-\\epsilon}{\\epsilon - 1}(\\frac{\\beta(1-\\epsilon)}{(1+\\beta)})^\\frac{1}{1-\\epsilon} $\n",
    "\n",
    "\n",
    "Since $0 <\\epsilon <1$,    $\\frac{d\\overline k(\\Xi)}{d\\Xi} < 0 $\n",
    "\n",
    "So, $\\overline k(\\Xi) > \\overline k(\\hat\\Xi)$\n",
    "\n",
    "This conclusion can be explained narratively. At time t when population growth rate increases, labor supply will increase while capital stock will remain the same relative to an economy where population growth remains the same at time t. This will cause wages to fall and since the amount of individual saving is derived as a ratio of wages, individual saving ($a_{1,t}$) will fall. At time (t+1), this saved amount will aggregate to $a_{1,t}L_t$. However this amount of capital will be divided among $L_{t+1}$ individuals. Thus, $k_{t+1}$ will be $a_{1,t}/\\hat\\Xi$. If population growth had remained the same, then $a_{1,t}$ would be higher and divided by a factor less than $\\hat\\Xi$ so capital stock per worker would be higher. To summarize, with increased population growth, wages and savings will fall and savings will be divided by a larger population so the capital stock per worker will be lower with $\\hat\\Xi$."
   ]
  },
  {
   "cell_type": "markdown",
   "metadata": {},
   "source": [
    "## 1-d)\n",
    "$\\beta = (0.96)^{30} \\cong 0.29$, $\\epsilon = \\alpha = 0.33$, $\\Xi = (1.01)^{30} \\cong 1.35$\n",
    "\n",
    "$k_{t+1} = \\frac{\\beta(1-\\epsilon)}{(1+\\beta)\\Xi}k_t^\\epsilon = \\frac{0.29(1-0.33)}{(1+0.29)1.35}k_t^{0.33} = \\frac{0.29(0.67)}{(1.29)1.35}k_t^{0.33} \\cong 0.11k_t^{0.33}$\n",
    "\n",
    "\n"
   ]
  },
  {
   "cell_type": "markdown",
   "metadata": {},
   "source": [
    "Let $\\frac{\\beta(1-\\epsilon)}{(1+\\beta)\\Xi} = \\Omega$\n",
    "\n",
    "When $\\Xi = 1.01^{30}$, $\\Omega \\cong 0.11$\n",
    "\n",
    "When $\\Xi = 1.03^{30}$, $1.03^{30} \\cong 2.43$, so $\\Omega \\cong 0.06$"
   ]
  },
  {
   "cell_type": "code",
   "execution_count": 3,
   "metadata": {
    "scrolled": false
   },
   "outputs": [
    {
     "data": {
      "image/png": "[encoded data removed]",
      "text/plain": [
       "<matplotlib.figure.Figure at 0x1bcc563cb70>"
      ]
     },
     "metadata": {},
     "output_type": "display_data"
    }
   ],
   "source": [
    "x = numpy.linspace(0,0.05,100)\n",
    "y = 0.11*numpy.power(x, 0.33)\n",
    "z = 0.06*numpy.power(x, 0.33)\n",
    "k_0 = 0.037\n",
    "k_1 = 0.015\n",
    "\n",
    "a_0 = k_0*numpy.linspace(1,1,20)\n",
    "b_0 = numpy.linspace(0,k_0,20)\n",
    "\n",
    "a_1 = k_1*numpy.linspace(1,1,10)\n",
    "b_1 = numpy.linspace(0,k_1,10)\n",
    "\n",
    "\n",
    "plt.figure(figsize=(7,5))\n",
    "plt.plot(x,y, 'b', label = '$\\Xi = 1.01^{30}$')\n",
    "plt.plot(x,z, 'c', label = '$\\Xi = 1.03^{30}$')\n",
    "plt.plot(x,x, 'r', label = '$k_{t+1} = k_t$')\n",
    "plt.plot(a_0, b_0, 'b--')\n",
    "plt.plot(a_1, b_1, 'c--')\n",
    "plt.plot(0.037,0, 'ro')\n",
    "plt.plot(0.015,0, 'ro')\n",
    "plt.annotate('$\\overline{k_0}$',xy=(k_0,0),xytext=(k_0+0.001,0.002))\n",
    "plt.annotate('$\\overline{k_1}$',xy=(k_1,0),xytext=(k_1+0.001,0.002))\n",
    "plt.arrow(0.037,0.037,0,-0.014, width=0.0005)\n",
    "plt.arrow(0.037,0.0205,-0.014,0, width=0.0005)\n",
    "plt.arrow(0.021,0.021,0,-0.002, width=0.0005)\n",
    "plt.plot()\n",
    "plt.ylim(0, 0.05)\n",
    "plt.xlim(0, 0.05)\n",
    "plt.ylabel('$k_{t+1}$')\n",
    "plt.xlabel('$k_{t}$')\n",
    "plt.legend()\n",
    "plt.show();"
   ]
  },
  {
   "cell_type": "markdown",
   "metadata": {},
   "source": [
    "Yes the graph supports my answer to 1-c). The increase in population growth has decreased the steady state level of capital stock per capita."
   ]
  },
  {
   "cell_type": "markdown",
   "metadata": {},
   "source": [
    "## 1-e)\n",
    "\n",
    "Total consumption at time t is \n",
    "$L_tc_{1,t} + L_{t-1}c_{2,t}$.\n",
    "\n",
    "So, dividing total consumption by $L_t$ gives you the aggregate consumption per person(or rather per worker) in period t, $c_{1,t} + \\frac{L_{t-1}}{L_t}c_{2,t} = c_{1,t} + \\frac{c_{2,t}}{\\Xi} = \\chi_t$\n",
    "\n",
    "This is not an exact representation of per person consumption since total consumption is divided by $L_t$ and not $(L_t + L_{t-1})$. However since only the young generation is participating in the labor market, representing consumption per person as total consumption divided by only the population of the young generation is reasonable. All other variables are also normalized in this way as well such as capital stock per capita($k_t$).\n",
    "\n",
    "The intertemporal budget constraint is\n",
    "\n",
    "$K_t + F(K_t,L_t) = L_tc_{1,t} + L_{t-1}c_{2,t} + L_ta_{1,t}$\n",
    "\n",
    "If we divide by $L_t$,\n",
    "\n",
    "$k_t + f(k_t) = c_{1,t} + \\frac{c_{2,t}}{\\Xi} + a_{1,t}$\n",
    "\n",
    "So, $\\chi_t = c_{1,t} + \\frac{c_{2,t}}{\\Xi} = k_t + f(k_t) - a_{1,t} = k_t + f(k_t) - \\Xi k_{t+1}$\n",
    "\n",
    "At the steady state, $\\chi = \\overline{k} + f(\\overline{k}) - \\Xi \\overline{k} = (1- \\Xi) \\overline{k} + \\overline{k}^{\\epsilon} = \\overline{k}^{\\epsilon} - \\xi\\overline{k}$"
   ]
  },
  {
   "cell_type": "markdown",
   "metadata": {},
   "source": [
    "## 1-f)\n",
    "\n",
    "$\\chi = \\overline{k}^{\\epsilon} - \\xi\\overline{k} = (\\frac{\\beta(1-\\epsilon)}{1+\\beta})^{\\frac{\\epsilon}{1-\\epsilon}}(1+\\xi)^{\\frac{\\epsilon}{\\epsilon - 1}} - (\\frac{\\beta(1-\\epsilon)}{1+\\beta})^{\\frac{1}{1-\\epsilon}}\\xi(1+\\xi)^{\\frac{1}{\\epsilon-1}}$\n",
    "\n",
    "Let $A = (\\frac{\\beta(1-\\epsilon)}{1+\\beta})^{\\frac{\\epsilon}{1-\\epsilon}}$ and $B = (\\frac{\\beta(1-\\epsilon)}{1+\\beta})^{\\frac{1}{1-\\epsilon}}$\n",
    "\n",
    "Then $\\chi = A(1+\\xi)^{\\frac{\\epsilon}{\\epsilon - 1}} - B\\xi(1+\\xi)^{\\frac{1}{\\epsilon-1}}$\n",
    "\n",
    "So, $\\frac{d\\chi}{d\\xi} = (1+\\xi)^\\frac{1}{1-\\epsilon}(A\\frac{\\epsilon}{\\epsilon - 1} - B - B\\frac{1}{\\epsilon - 1}\\frac{\\xi}{1+\\xi})$\n",
    "\n",
    "Since $(1+\\xi)^\\frac{1}{1-\\epsilon} > 0$ we must check $(A\\frac{\\epsilon}{\\epsilon - 1} - B - B\\frac{1}{\\epsilon - 1}\\frac{\\xi}{1+\\xi}) < 0$.\n",
    "\n",
    "$(A\\frac{\\epsilon}{\\epsilon - 1} - B - B\\frac{1}{\\epsilon - 1}\\frac{\\xi}{1+\\xi}) < 0$\n",
    "\n",
    "if and only if\n",
    "\n",
    "$\\frac{A\\epsilon}{B} - (\\epsilon - 1) > \\frac{\\xi}{1+\\xi} \\cdots\\cdots\\cdots$ (Move $B\\frac{1}{\\epsilon - 1}\\frac{\\xi}{1+\\xi})$ to the RHS and divide by $B\\frac{1}{\\epsilon - 1}$)\n",
    "\n",
    "if and only if \n",
    "\n",
    "$\\frac{1+\\beta}{\\beta(1-\\epsilon)}\\epsilon - \\epsilon + 1 > \\frac{\\xi}{1+\\xi} \\cdots\\cdots\\cdots$ (Substitute A and B for their actual values)\n",
    "\n",
    "Because $\\frac{1+\\beta}{\\beta(1-\\epsilon)} > 1$, $\\frac{1+\\beta}{\\beta(1-\\epsilon)}\\epsilon - \\epsilon + 1 > 1$ and $1 > \\frac{\\xi}{1+\\xi}$\n",
    "\n",
    "So $\\frac{1+\\beta}{\\beta(1-\\epsilon)}\\epsilon - \\epsilon + 1 > \\frac{\\xi}{1+\\xi}$ is true.\n",
    "\n",
    "Thus $(A\\frac{\\epsilon}{\\epsilon - 1} - B - B\\frac{1}{\\epsilon - 1}\\frac{\\xi}{1+\\xi}) < 0$ is true.\n",
    "\n",
    "And so we can conclusively state that $\\frac{d\\chi}{d\\xi} < 0$\n",
    "\n",
    "\n",
    "\n",
    "\n",
    "\n",
    "This can be narratively explained as well. As population growth increases at time t, wages will fall due to an increase in labor supply. Capital stock remains the same as it is constructed by saving in time t-1. Individual consumption is proportional to wages when consumption is optimized thus as wages fall, consumption of the young generation at time t will fall. Consumption of the old generation at time t remains the same and so overall aggregate consumption will decrease and so will consumption per capita since we are dividing by a larger population. As the economy reaches a new steady state, due to a higher population growth rate, steady state capital will decrease (as discussed in 1-c), taking wages to decrease along with it. Individual consumption is proportional to wages so individual consumption will be lower and because we are diving by a larger population to achieve consumption per capita, consumption per capita will be lower at the steady state."
   ]
  },
  {
   "cell_type": "markdown",
   "metadata": {},
   "source": [
    "## 2.\n",
    "\n",
    "First, let's examine the case of the social security system that allocates constant per-capita benefits.\n",
    "\n",
    "Let $-B$ indicate the fixed amount of benefits an individual receives when they become old. $B = z_{2,s}$\n",
    "\n",
    "Since $Z_{1,s} = -Z_{2,s}$, the following must hold.\n",
    "\n",
    "$L_sz_{1,s} = -L_{s-1}z_{2,s} = -L_{s-1}B$\n",
    "\n",
    "If we say that population growth is $\\Xi_s = \\frac{L_s}{L_{s-1}}$, then we can say that $z_{1,s} = -\\frac{B}{\\Xi_s}$\n",
    "\n",
    "So, we can say that the per-capita generational account for the generation born at time s is $\\overline{z_s} = z_{1,s} + z_{2,s+1}/R_{s+1} = -\\frac{B}{\\Xi_s} + \\frac{B}{R_{s+1}} = (\\frac{1}{R_{s+1}} - \\frac{1}{\\Xi_s})B$\n",
    "\n",
    "For generation t-n, $\\quad$ $\\overline{z_{t-n}} = (\\frac{1}{R_{t-n+1}} - \\frac{1}{\\Xi_{t-n}})B $\n",
    "\n",
    "For generation t+n, $\\quad$ $\\overline{z_{t+n}} = (\\frac{1}{R_{t+n+1}} - \\frac{1}{\\Xi_{t+n}})B $\n",
    "\n",
    "Generation t-n for $n \\in \\{1,2,3,...\\}$ is not affected by the baby boom generation as its per-capita generational account does not depend on $\\Xi_t$ or $\\Xi_{t+1}$.\n",
    "\n",
    "Generation t is positively affected by the baby boom since $\\overline{z_{t}} = (\\frac{1}{R_{t+1}} - \\frac{1}{\\Xi_{t}})B $. An increase in $\\Xi_t$ decreases $\\overline{z_t}$ since $B < 0$. \n",
    "\n",
    "Generation t+1 is affected by the baby boom generation since $\\Xi_{t+1}$ is smaller than usual. The question states that the population of the baby boom generation is bigger than the population of the generation after it, so $\\Xi_{t+1}$ must be smaller than 1.\n",
    "\n",
    "Since $\\overline{z_{t+1}} = (\\frac{1}{R_{t+2}} - \\frac{1}{\\Xi_{t+1}})B $, a reduction in $\\Xi_{t+1}$ will raise $\\overline{z_{t+1}}$ since $B < 0$.\n",
    "\n",
    "Thus generation t+1 is negatively affected by the baby boom.\n",
    "\n",
    "Generation t+n for n $\\in \\{2,3,4,...\\}$ is not affected by the baby boom generation as its per-capita generational account does not depend on $\\Xi_t$ or $\\Xi_{t+1}$.\n",
    "\n",
    "\n"
   ]
  },
  {
   "cell_type": "markdown",
   "metadata": {},
   "source": [
    "Second, let's examine the case of the social security system that collects constant per-capita taxes.\n",
    "\n",
    "Let $T$ indicate the fixed amount of taxes an individual pays when they are young. $T = z_{1,s}$\n",
    "\n",
    "Since $-Z_{2,s} = Z_{1,s}$, the following must hold.\n",
    "\n",
    "$-L_{s-1}z_{2,s} = L_sz_{1,s} = L_sT$\n",
    "\n",
    "If we say that population growth is $\\Xi_s = \\frac{L_s}{L_{s-1}}$, then we can say that $z_{2,s} = -\\Xi_sT$\n",
    "\n",
    "So, we can say that the per-capita generational account for the generation born at time s is $\\overline{z_s} = z_{1,s} + z_{2,s+1}/R_{s+1} = T + -\\Xi_{s+1}T/R_{s+1} = (1-\\frac{\\Xi_{s+1}}{R_{s+1}})T$\n",
    "\n",
    "For generation t-n, $\\quad$ $\\overline{z_{t-n}} = (1-\\frac{\\Xi_{t-n+1}}{R_{t-n+1}})T $\n",
    "\n",
    "For generation t+n, $\\quad$ $\\overline{z_{t+n}} = (1-\\frac{\\Xi_{t+n+1}}{R_{t+n+1}})T $\n",
    "\n",
    "Generation t-n for $n \\in \\{2,3,4,...\\}$ is not affected by the baby boom generation as its per-capita generational account does not depend on $\\Xi_t$ or $\\Xi_{t+1}$.\n",
    "\n",
    "Generation t-1 is positively affected since $\\overline{z_{t-1}} = (1-\\frac{\\Xi_{t}}{R_{t}})T $ and $\\Xi_{t}$ is significantly larger than average. Since $\\Xi_{t}$ is large, $\\overline{z_{t-1}}$ is small.\n",
    "\n",
    "Generation t is negatively affected since $\\overline{z_{t}} = (1-\\frac{\\Xi_{t+1}}{R_{t+1}})T$. $\\Xi_{t+1}$ is smaller than 1 since the population of generation t+1 is smaller than the population of generation t. A small $\\Xi_{t+1}$ induces a larger $\\overline{z_{t}}$.\n",
    "\n",
    "Generation t+n for $n \\in \\{1,2,3,...\\}$ is not affected by the baby boom generation as its per-capita generational account does not depend on $\\Xi_t$ or $\\Xi_{t+1}$."
   ]
  },
  {
   "cell_type": "markdown",
   "metadata": {},
   "source": [
    "To summarize,\n",
    "\n",
    "| generation |constant benefits policy|constant taxes policy|\n",
    "|------|------------------------|---------------------|\n",
    "|...   |unaffected              |unaffected|\n",
    "|t-1   |unaffected              |positively affected|\n",
    "|t     |positively affected     |negatively affected|\n",
    "|t+1   |negatively affected     |unaffected|\n",
    "|...   |unaffected              |unaffected|"
   ]
  },
  {
   "cell_type": "markdown",
   "metadata": {},
   "source": [
    "This can be explained narratively.\n",
    "\n",
    "Under the constant per-capita benefits policy, a sudden increase in young population at time t will burden the young generation in time t+1 since they will have to pay much more to support the old generation t.\n",
    "\n",
    "Under the constant per-capita taxes policy, a sudden increase in young population at time t will benefit generation t-1 since when generation t-1 get old, the support they receive is funded by more people paying a fixed price.\n",
    "\n",
    "Generation t will benefit from the constant per-capita benefits policy since individually they won't have to pay as much when young to support the old generation t-1. However, they will be supported less under the constant per-capita taxes policy since a relatively small population will support them when they become old.\n",
    "\n",
    "Other generations will not be directly affected by the baby boom generation."
   ]
  }
 ],
 "metadata": {
  "kernelspec": {
   "display_name": "Python 3",
   "language": "python",
   "name": "python3"
  },
  "language_info": {
   "codemirror_mode": {
    "name": "ipython",
    "version": 3
   },
   "file_extension": ".py",
   "mimetype": "text/x-python",
   "name": "python",
   "nbconvert_exporter": "python",
   "pygments_lexer": "ipython3",
   "version": "3.6.5"
  }
 },
 "nbformat": 4,
 "nbformat_minor": 2
}
